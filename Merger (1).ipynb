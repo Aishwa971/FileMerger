{
 "cells": [
  {
   "cell_type": "code",
   "execution_count": null,
   "id": "15e390bc-1462-412c-952a-948cea57433b",
   "metadata": {},
   "outputs": [],
   "source": [
    "import PyPDF2\n",
    "\n",
    "pdfiles=[\"sample1.pdf\",\"sample2.pdf\"]\n",
    "merger=PyPDF2.PdfMerger()\n",
    "for filename in pdfiles:\n",
    "    pdfFile=open(filename,'rb')\n",
    "    pdfReader=PyPDF2.PdfReader(pdfFile)\n",
    "    merger.append(pdfReader)\n",
    "pdfFile.close()\n",
    "merger.write('merged.pdf')"
   ]
  }
 ],
 "metadata": {
  "kernelspec": {
   "display_name": "Python 3 (ipykernel)",
   "language": "python",
   "name": "python3"
  },
  "language_info": {
   "codemirror_mode": {
    "name": "ipython",
    "version": 3
   },
   "file_extension": ".py",
   "mimetype": "text/x-python",
   "name": "python",
   "nbconvert_exporter": "python",
   "pygments_lexer": "ipython3",
   "version": "3.12.4"
  }
 },
 "nbformat": 4,
 "nbformat_minor": 5
}
